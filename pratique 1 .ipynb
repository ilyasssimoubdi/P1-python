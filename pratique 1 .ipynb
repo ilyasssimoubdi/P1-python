{
 "cells": [
  {
   "cell_type": "markdown",
   "id": "52ba3644",
   "metadata": {},
   "source": [
    "# Correction Titanic"
   ]
  },
  {
   "cell_type": "markdown",
   "id": "0ad1b318",
   "metadata": {},
   "source": [
    "## Exercice 1: Importation des Données"
   ]
  },
  {
   "cell_type": "code",
   "execution_count": 3,
   "id": "90d68d68",
   "metadata": {},
   "outputs": [],
   "source": [
    "import pandas as pd # J'importe la bibliotheque Pandas \n",
    "\n",
    "titanic_data = pd.read_excel(r\"C:\\Users\\samyw\\Downloads\\titanic_dataset.xls\") # J'importe les données en utilisant la fonction read_excel() de Pandas"
   ]
  },
  {
   "cell_type": "markdown",
   "id": "6f220c77",
   "metadata": {},
   "source": [
    "## Exercice 2: Nettoyage Initial des Données"
   ]
  },
  {
   "cell_type": "code",
   "execution_count": 5,
   "id": "12d53d4e",
   "metadata": {},
   "outputs": [],
   "source": [
    "titanic_data.drop('ticket', axis=1, inplace=True)"
   ]
  },
  {
   "cell_type": "markdown",
   "id": "77d1dd20",
   "metadata": {},
   "source": [
    "- La méthode drop() est utilisée pour supprimer la colonne 'ticket' du DataFrame titanic_data. \n",
    "- L'argument axis=1 indique que nous souhaitons supprimer une colonne (et non une ligne, ce qui serait axis=0). \n",
    "- L'argument inplace=True signifie que la modification est effectuée directement sur le DataFrame original, sans nécessiter de réaffectation."
   ]
  },
  {
   "cell_type": "markdown",
   "id": "0402211f",
   "metadata": {},
   "source": [
    "## Exercice 3: Exploration de Données avec `value_counts()`"
   ]
  },
  {
   "cell_type": "code",
   "execution_count": 8,
   "id": "2c66ef94",
   "metadata": {},
   "outputs": [
    {
     "data": {
      "text/plain": [
       "pclass\n",
       "3    709\n",
       "1    323\n",
       "2    277\n",
       "Name: count, dtype: int64"
      ]
     },
     "execution_count": 8,
     "metadata": {},
     "output_type": "execute_result"
    }
   ],
   "source": [
    "titanic_data['pclass'].value_counts()"
   ]
  },
  {
   "cell_type": "markdown",
   "id": "295f99b4",
   "metadata": {},
   "source": [
    "- La méthode value_counts() est appliquée à la colonne 'pclass' du DataFrame pour compter le nombre d'occurrences de chaque valeur unique dans cette colonne, ce qui permet d'obtenir le nombre de passagers dans chaque classe de cabine."
   ]
  },
  {
   "cell_type": "markdown",
   "id": "4fab858e",
   "metadata": {},
   "source": [
    "## Exercice 4: Analyse Groupée avec `groupby()`"
   ]
  },
  {
   "cell_type": "code",
   "execution_count": 11,
   "id": "af334cf9",
   "metadata": {},
   "outputs": [
    {
     "data": {
      "text/plain": [
       "sex\n",
       "female    0.727468\n",
       "male      0.190985\n",
       "Name: survived, dtype: float64"
      ]
     },
     "execution_count": 11,
     "metadata": {},
     "output_type": "execute_result"
    }
   ],
   "source": [
    "titanic_data.groupby('sex')['survived'].mean()"
   ]
  },
  {
   "cell_type": "markdown",
   "id": "86f111b9",
   "metadata": {},
   "source": [
    "- La méthode groupby() est utilisée pour regrouper les données du DataFrame titanic_data par sexe. Sur chaque groupe ainsi formé, la méthode mean() est appliquée à la colonne 'survived' pour calculer le taux moyen de survie. Le résultat montre le taux moyen de survie pour les hommes et les femmes."
   ]
  },
  {
   "cell_type": "markdown",
   "id": "3b539c97",
   "metadata": {},
   "source": [
    "## Exercice 5: Visualisation avec `sns.countplot()`"
   ]
  },
  {
   "cell_type": "code",
   "execution_count": 35,
   "id": "c5322291",
   "metadata": {
    "scrolled": true
   },
   "outputs": [],
   "source": [
    "import seaborn as sns\n",
    "import matplotlib.pyplot as plt"
   ]
  },
  {
   "cell_type": "code",
   "execution_count": 30,
   "id": "a51c4540-0ae9-4762-b75c-d1fe462f7230",
   "metadata": {},
   "outputs": [
    {
     "data": {
      "image/png": "[encoded data removed]",
      "text/plain": [
       "<Figure size 1098x500 with 2 Axes>"
      ]
     },
     "metadata": {},
     "output_type": "display_data"
    }
   ],
   "source": [
    "graphiques = sns.catplot(data=titanic_data, x='pclass', hue='sex', col='survived', kind='count', palette='pastel')\n",
    "graphiques.set_axis_labels(\"Classe\", \"Nombre de passagers\")\n",
    "plt.show()\n"
   ]
  },
  {
   "cell_type": "markdown",
   "id": "cb217951",
   "metadata": {},
   "source": [
    "- data=titanic_data : Ce paramètre indique que nous utilisons le dataset nommé titanic_data pour générer les graphiques.\n",
    "\n",
    "- x='pclass' : Définit la variable pclass comme l'axe des x. Ici, pclass représente la classe des passagers (1ère, 2ème ou 3ème classe).\n",
    "\n",
    "- hue='sex' : Le paramètre hue utilise la variable sex pour colorer les barres selon le sexe des passagers (hommes et femmes). Cela permet de distinguer les barres par sexe dans chaque classe.\n",
    "\n",
    "- col='survived' : Crée deux graphiques distincts, un pour les passagers qui ont survécu (survived=1) et un pour ceux qui n'ont pas survécu (survived=0). En séparant les graphiques par colonne avec col='survived', chaque graphique montre le nombre de passagers dans chaque classe, séparés par sexe, pour les deux groupes (survivants et non-survivants).\n",
    "\n",
    "- kind='count' : Ce paramètre indique que nous voulons un graphique de type \"comptage\" (count), où le nombre d’occurrences de chaque catégorie est affiché sur l’axe des y.\n",
    "\n",
    "- palette='pastel' : Utilise une palette de couleurs pastel pour les barres, ce qui améliore la visibilité des différences entre les sexes (distinguer les hommes des femmes par une couleur douce)."
   ]
  },
  {
   "cell_type": "markdown",
   "id": "2799864d",
   "metadata": {},
   "source": [
    "## Exercice 6: Comparaison de Groupes avec `pd.crosstab()`"
   ]
  },
  {
   "cell_type": "code",
   "execution_count": null,
   "id": "e6aa69c1",
   "metadata": {},
   "outputs": [],
   "source": [
    "pd.crosstab(titanic_data['survived'], titanic_data['pclass'])"
   ]
  },
  {
   "cell_type": "markdown",
   "id": "22dcd9d9",
   "metadata": {},
   "source": [
    "- La fonction **pd.crosstab()** est utilisée pour créer un tableau croisé qui montre la relation entre deux variables, ici 'survived' (survie) et 'pclass' (classe de passager). \n",
    "\n",
    "Ce tableau aide à comprendre la distribution des survivants et non-survivants dans chaque classe de cabine."
   ]
  },
  {
   "cell_type": "markdown",
   "id": "c97f74e4",
   "metadata": {},
   "source": [
    "## Exercice 7: Transformation de la Colonne Classe de Passager"
   ]
  },
  {
   "cell_type": "code",
   "execution_count": null,
   "id": "85dc006e",
   "metadata": {},
   "outputs": [],
   "source": [
    "def describe_class(pclass):\n",
    "    if pclass == 1:\n",
    "        return 'Première Classe'\n",
    "    elif pclass == 2:\n",
    "        return 'Deuxième Classe'\n",
    "    elif pclass == 3:\n",
    "        return 'Troisième Classe'\n",
    "\n",
    "titanic_data['class_Description'] = titanic_data['pclass'].map(describe_class) # J'utilise la méthode map pour appliquer la fonction à toutes les valeurs de la colonne \"pclass\"\n",
    "\n",
    "titanic_data[['pclass', 'class_Description']].sample(10) # sample() permet d'afficher un echantillon aléatoire des données. "
   ]
  }
 ],
 "metadata": {
  "kernelspec": {
   "display_name": "Python 3 (ipykernel)",
   "language": "python",
   "name": "python3"
  },
  "language_info": {
   "codemirror_mode": {
    "name": "ipython",
    "version": 3
   },
   "file_extension": ".py",
   "mimetype": "text/x-python",
   "name": "python",
   "nbconvert_exporter": "python",
   "pygments_lexer": "ipython3",
   "version": "3.12.7"
  }
 },
 "nbformat": 4,
 "nbformat_minor": 5
}
